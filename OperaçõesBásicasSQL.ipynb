{
  "nbformat": 4,
  "nbformat_minor": 0,
  "metadata": {
    "colab": {
      "provenance": []
    },
    "kernelspec": {
      "name": "python3",
      "display_name": "Python 3"
    },
    "language_info": {
      "name": "python"
    }
  },
  "cells": [
    {
      "cell_type": "markdown",
      "source": [
        "# **MÓDULO 25 - Operações Básicas SQL**"
      ],
      "metadata": {
        "id": "4T5dCtwYXFS0"
      }
    },
    {
      "cell_type": "markdown",
      "source": [
        "Para nossa atividade inicial de SQL trabalharemos com uma base de vendas.\n",
        "Abaixo temos o ambiente de preparo para trabalharmos com o SQL lite."
      ],
      "metadata": {
        "id": "tGub_MhcXTfu"
      }
    },
    {
      "cell_type": "code",
      "execution_count": 1,
      "metadata": {
        "id": "eQtWi0CfXCPn"
      },
      "outputs": [],
      "source": [
        "import sqlite3 #Importando a biblioteca necessária\n",
        "import pandas as pd"
      ]
    },
    {
      "cell_type": "code",
      "source": [
        "df_vendas = pd.read_csv(\"TB_VENDAS_TAREFA.csv\", delimiter=';')"
      ],
      "metadata": {
        "id": "yKsW2EEpXQTK"
      },
      "execution_count": 2,
      "outputs": []
    },
    {
      "cell_type": "code",
      "source": [
        "conn = sqlite3.connect(':memory:')\n",
        "df_vendas.to_sql('tb_vendas', conn, index=False, if_exists='replace')"
      ],
      "metadata": {
        "colab": {
          "base_uri": "https://localhost:8080/"
        },
        "id": "vbdvMKZgXtT5",
        "outputId": "eacdad7a-5352-4dcd-8edc-f86406c74f85"
      },
      "execution_count": 3,
      "outputs": [
        {
          "output_type": "execute_result",
          "data": {
            "text/plain": [
              "24"
            ]
          },
          "metadata": {},
          "execution_count": 3
        }
      ]
    },
    {
      "cell_type": "code",
      "source": [
        "def run_query(query):\n",
        "    return pd.read_sql_query(query, conn)"
      ],
      "metadata": {
        "id": "Z3-elg3aXuiM"
      },
      "execution_count": 4,
      "outputs": []
    },
    {
      "cell_type": "markdown",
      "source": [
        "# 1) Faça uma consulta que retorne os nomes dos produtos distintos que temos na base de venda.\n"
      ],
      "metadata": {
        "id": "Z_EFXuNLXz7m"
      }
    },
    {
      "cell_type": "code",
      "source": [
        "query = \"\"\"\n",
        "SELECT\n",
        "DISTINCT(produto)\n",
        "FROM tb_vendas\n",
        "\"\"\"\n",
        "result_df = run_query(query)\n",
        "print(result_df)"
      ],
      "metadata": {
        "id": "RXZK6kTcZ4BR",
        "colab": {
          "base_uri": "https://localhost:8080/"
        },
        "outputId": "b51f1ab3-973a-4464-d26c-be968f474110"
      },
      "execution_count": 7,
      "outputs": [
        {
          "output_type": "stream",
          "name": "stdout",
          "text": [
            "    PRODUTO\n",
            "0  CAMISETA\n",
            "1     CALCA\n",
            "2   BERMUDA\n",
            "3   VESTIDO\n",
            "4      MEIA\n"
          ]
        }
      ]
    },
    {
      "cell_type": "markdown",
      "source": [
        "# 2) Faça uma consulta que retorne a contagem dos clientes distintos que temos na nossa base, não esqueça de renomear sua coluna.\n",
        "\n",
        "Dica: Você pode usar o distinct dentro do count()"
      ],
      "metadata": {
        "id": "i0m1rdHk1kHc"
      }
    },
    {
      "cell_type": "code",
      "source": [
        "query = \"\"\"\n",
        "SELECT\n",
        "id_cliente, COUNT(DISTINCT(id_cliente)) AS contagem_clientes\n",
        "FROM tb_vendas\n",
        "GROUP BY id_cliente\n",
        "\"\"\"\n",
        "result_df = run_query(query)\n",
        "print(result_df)"
      ],
      "metadata": {
        "id": "uDGHdqIwZ72P",
        "colab": {
          "base_uri": "https://localhost:8080/"
        },
        "outputId": "22ade13a-47e4-4f75-ca09-c6f69f3d6c84"
      },
      "execution_count": 46,
      "outputs": [
        {
          "output_type": "stream",
          "name": "stdout",
          "text": [
            "    ID_CLIENTE  contagem_clientes\n",
            "0         9081                  1\n",
            "1         9425                  1\n",
            "2         9481                  1\n",
            "3         9560                  1\n",
            "4         9630                  1\n",
            "5         9785                  1\n",
            "6         9786                  1\n",
            "7         9787                  1\n",
            "8         9788                  1\n",
            "9         9789                  1\n",
            "10        9790                  1\n",
            "11        9791                  1\n",
            "12        9792                  1\n",
            "13        9793                  1\n",
            "14        9794                  1\n",
            "15        9795                  1\n",
            "16        9796                  1\n",
            "17        9797                  1\n",
            "18        9798                  1\n",
            "19        9799                  1\n",
            "20        9800                  1\n",
            "21        9801                  1\n"
          ]
        }
      ]
    },
    {
      "cell_type": "markdown",
      "source": [
        "# 3) Faça uma consulta que retorne uma coluna com os produtos distintos e o valor_unid de cada produto. Porém apenas para produtos onde o valor_unid é maior ou igual a 50 reais."
      ],
      "metadata": {
        "id": "OvDezkJ516jd"
      }
    },
    {
      "cell_type": "code",
      "source": [
        "query = \"\"\"\n",
        "SELECT\n",
        "produto, valor_unid\n",
        "FROM tb_vendas\n",
        "WHERE valor_unid >= 50\n",
        "\"\"\"\n",
        "result_df = run_query(query)\n",
        "print(result_df)"
      ],
      "metadata": {
        "id": "_Feprb8JZ9Cg",
        "colab": {
          "base_uri": "https://localhost:8080/"
        },
        "outputId": "f9e97b8c-6fbd-4047-bb4a-ea49ff5870d0"
      },
      "execution_count": 20,
      "outputs": [
        {
          "output_type": "stream",
          "name": "stdout",
          "text": [
            "   PRODUTO VALOR_UNID\n",
            "0    CALCA       89,9\n",
            "1  BERMUDA       79,5\n",
            "2    CALCA       89,9\n",
            "3    CALCA       89,9\n",
            "4    CALCA       89,9\n",
            "5  BERMUDA       79,5\n",
            "6    CALCA       89,9\n",
            "7    CALCA       89,9\n",
            "8  BERMUDA       79,5\n",
            "9    CALCA       89,9\n"
          ]
        }
      ]
    },
    {
      "cell_type": "markdown",
      "source": [
        "# [DESAFIO] 4) Faça uma consulta que retorne o ID das compras e o valor total gasto nessa compra (Valor_unidade X Unidades) das 5 compras com mais valor total gasto."
      ],
      "metadata": {
        "id": "jcxg6MuX2c61"
      }
    },
    {
      "cell_type": "code",
      "source": [
        "query = \"\"\"\n",
        "SELECT\n",
        "id_compra, valor_unid*unidades AS valor_compra\n",
        "FROM tb_vendas\n",
        "WHERE valor_compra\n",
        "ORDER BY valor_compra DESC\n",
        "LIMIT 5\n",
        "\"\"\"\n",
        "result_df = run_query(query)\n",
        "print(result_df)"
      ],
      "metadata": {
        "id": "rtmlv-MyZ99R",
        "colab": {
          "base_uri": "https://localhost:8080/"
        },
        "outputId": "ce9c0790-6abd-45de-8bf3-13a88e32b222"
      },
      "execution_count": 36,
      "outputs": [
        {
          "output_type": "stream",
          "name": "stdout",
          "text": [
            "   ID_COMPRA  valor_compra\n",
            "0       1267           204\n",
            "1       1253           178\n",
            "2       1255           178\n",
            "3       1257           178\n",
            "4       1262           178\n"
          ]
        }
      ]
    },
    {
      "cell_type": "markdown",
      "source": [
        "# 5) Faça uma consulta que retorne os produtos e a média do preço da unidade dos produtos, ordenando do maior para o menor."
      ],
      "metadata": {
        "id": "NJXkUmwH3EkG"
      }
    },
    {
      "cell_type": "code",
      "source": [
        "query = \"\"\"\n",
        "SELECT\n",
        "produto, AVG(valor_unid) AS media_valor_unid\n",
        "FROM tb_vendas\n",
        "GROUP BY produto\n",
        "ORDER BY media_valor_unid DESC\n",
        "\n",
        "\"\"\"\n",
        "result_df = run_query(query)\n",
        "print(result_df)"
      ],
      "metadata": {
        "id": "el35t_f8Z_-j",
        "colab": {
          "base_uri": "https://localhost:8080/"
        },
        "outputId": "3fcd093d-e10d-4faf-f0bb-868b3ad5882d"
      },
      "execution_count": 38,
      "outputs": [
        {
          "output_type": "stream",
          "name": "stdout",
          "text": [
            "    PRODUTO  media_valor_unid\n",
            "0   VESTIDO             102.0\n",
            "1     CALCA              89.0\n",
            "2   BERMUDA              79.0\n",
            "3  CAMISETA              34.0\n",
            "4      MEIA              25.0\n"
          ]
        }
      ]
    },
    {
      "cell_type": "markdown",
      "source": [
        "# 6) Faça uma consulta que retorne o id dos 3 clientes da base de vendas que mais relalizaram compras e a quantidade de compras realizadas."
      ],
      "metadata": {
        "id": "KR1f3qbB3s8D"
      }
    },
    {
      "cell_type": "code",
      "source": [
        "query = \"\"\"\n",
        "SELECT\n",
        "id_cliente, COUNT(id_compra) AS quantidade_compras\n",
        "FROM tb_vendas\n",
        "GROUP BY id_cliente\n",
        "ORDER BY quantidade_compras DESC\n",
        "LIMIT 3\n",
        "\"\"\"\n",
        "result_df = run_query(query)\n",
        "print(result_df)"
      ],
      "metadata": {
        "id": "ZLZ8mkXjaA-f",
        "colab": {
          "base_uri": "https://localhost:8080/"
        },
        "outputId": "ee48590a-3a94-4fcc-ab0b-00db43f8dfb1"
      },
      "execution_count": 50,
      "outputs": [
        {
          "output_type": "stream",
          "name": "stdout",
          "text": [
            "   ID_CLIENTE  quantidade_compras\n",
            "0        9425                   2\n",
            "1        9081                   2\n",
            "2        9801                   1\n"
          ]
        }
      ]
    },
    {
      "cell_type": "markdown",
      "source": [],
      "metadata": {
        "id": "ZXli42ofwnsy"
      }
    }
  ]
}